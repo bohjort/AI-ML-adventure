{
  "nbformat": 4,
  "nbformat_minor": 0,
  "metadata": {
    "colab": {
      "name": "OMX30.ipynb",
      "provenance": [],
      "collapsed_sections": [],
      "include_colab_link": true
    },
    "kernelspec": {
      "name": "python3",
      "display_name": "Python 3"
    },
    "language_info": {
      "name": "python"
    }
  },
  "cells": [
    {
      "cell_type": "markdown",
      "metadata": {
        "id": "view-in-github",
        "colab_type": "text"
      },
      "source": [
        "<a href=\"https://colab.research.google.com/github/bohjort/AI-ML-adventure/blob/main/OMX30.ipynb\" target=\"_parent\"><img src=\"https://colab.research.google.com/assets/colab-badge.svg\" alt=\"Open In Colab\"/></a>"
      ]
    },
    {
      "cell_type": "code",
      "metadata": {
        "colab": {
          "base_uri": "https://localhost:8080/"
        },
        "id": "xmQGC3B0i9b0",
        "outputId": "0e41c15a-dfce-45ee-bce9-1e69eec1d9c1"
      },
      "source": [
        "%tensorflow_version 2.x  # this line is not required unless you are in a notebook\n",
        "from __future__ import absolute_import, division, print_function, unicode_literals\n",
        "\n",
        "\n",
        "import tensorflow as tf\n",
        "\n",
        "import pandas as pd"
      ],
      "execution_count": 2,
      "outputs": [
        {
          "output_type": "stream",
          "name": "stdout",
          "text": [
            "`%tensorflow_version` only switches the major version: 1.x or 2.x.\n",
            "You set: `2.x  # this line is not required unless you are in a notebook`. This will be interpreted as: `2.x`.\n",
            "\n",
            "\n",
            "TensorFlow 2.x selected.\n"
          ]
        }
      ]
    },
    {
      "cell_type": "code",
      "metadata": {
        "id": "QyMwdBvOjFO8"
      },
      "source": [
        "CSV_COLUMN_NAMES = ['Year', 'Month', 'Day','Weekday','High', 'Low', 'Close','High_ch_pc_sdbf', 'Low_ch_pc_sdbf', 'Close_ch_pc_sdbf', 'High_ch_tot_sdbf', 'Low_ch_tot_sdbf', 'Close_ch_tot_sdbf','Streak','Bestmove']\n",
        "Bestmove = ['Salj', 'Kop']\n",
        "# Lets define some constants to help us later on"
      ],
      "execution_count": 3,
      "outputs": []
    },
    {
      "cell_type": "code",
      "metadata": {
        "id": "YLceCOEjnGls"
      },
      "source": [
        "url1 = 'https://raw.githubusercontent.com/bohjort/AI-ML-adventure/main/eval-20200901.csv'\n",
        "url2 = 'https://raw.githubusercontent.com/bohjort/AI-ML-adventure/main/omx30-20200901-1y.csv'\n",
        "url3 = 'https://raw.githubusercontent.com/bohjort/AI-ML-adventure/main/omx30training.csv'\n",
        "url4 = 'https://raw.githubusercontent.com/bohjort/AI-ML-adventure/main/OMX30trainingdata.csv'\n",
        "url5 = 'https://raw.githubusercontent.com/bohjort/AI-ML-adventure/main/OMX30testingdata.csv'\n",
        "url6 = 'https://raw.githubusercontent.com/bohjort/AI-ML-adventure/main/OMX30trainingdata2.csv'\n",
        "\n"
      ],
      "execution_count": 4,
      "outputs": []
    },
    {
      "cell_type": "code",
      "metadata": {
        "id": "zg4QKI1boVBm"
      },
      "source": [
        "df1 = pd.read_csv(url1)\n",
        "df2 = pd.read_csv(url2)\n",
        "df3 = pd.read_csv(url6)\n",
        "df4 = pd.read_csv(url5)"
      ],
      "execution_count": 5,
      "outputs": []
    },
    {
      "cell_type": "code",
      "metadata": {
        "colab": {
          "base_uri": "https://localhost:8080/"
        },
        "id": "Cr23ntFNpiz9",
        "outputId": "9ce32c3c-13cc-44eb-9dc0-a443477c84c0"
      },
      "source": [
        "print(df3)\n",
        "print(df4)"
      ],
      "execution_count": 6,
      "outputs": [
        {
          "output_type": "stream",
          "name": "stdout",
          "text": [
            "     Year  Month  Day  ...  Close_ch_tot_sdbf  Streak  Bestmove\n",
            "0    2021      9   30  ...           3.630000       2         0\n",
            "1    2021      9   29  ...           1.530000       1         1\n",
            "2    2021      9   28  ...         -49.990000      -3         1\n",
            "3    2021      9   27  ...          -9.260000      -2         0\n",
            "4    2021      9   24  ...         -24.730000      -1         0\n",
            "..    ...    ...  ...  ...                ...     ...       ...\n",
            "353  2020      5    8  ...          25.450000       2         0\n",
            "354  2020      5    7  ...          16.340000       1         1\n",
            "355  2020      5    6  ...         -16.780000      -1         1\n",
            "356  2020      5    5  ...          32.970000       1         0\n",
            "357  2020      5    4  ...           2.200462      -1         1\n",
            "\n",
            "[358 rows x 15 columns]\n",
            "    Year  Month  Day  ...  Close_ch_tot_sdbf  Streak  Bestmove\n",
            "0   2021     10   20  ...              -0.41      -1         0\n",
            "1   2021     10   19  ...              14.96       1         0\n",
            "2   2021     10   18  ...              -3.28      -1         1\n",
            "3   2021     10   15  ...              18.21       4         0\n",
            "4   2021     10   14  ...              19.82       3         1\n",
            "5   2021     10   13  ...              25.94       2         1\n",
            "6   2021     10   12  ...              17.49       1         1\n",
            "7   2021     10   11  ...              -6.70      -2         1\n",
            "8   2021     10    8  ...             -17.52      -1         0\n",
            "9   2021     10    7  ...              36.68       1         0\n",
            "10  2021     10    6  ...             -33.78      -1         1\n",
            "11  2021     10    5  ...              21.54       1         0\n",
            "12  2021     10    4  ...             -20.88      -2         1\n",
            "13  2021     10    1  ...              -5.00      -1         0\n",
            "\n",
            "[14 rows x 15 columns]\n"
          ]
        }
      ]
    },
    {
      "cell_type": "code",
      "metadata": {
        "id": "RfQpUnmcj7EM"
      },
      "source": [
        "train = df3\n",
        "test = df4\n",
        "# Here we use keras (a module inside of TensorFlow) to grab our datasets and read them into a pandas dataframe"
      ],
      "execution_count": 7,
      "outputs": []
    },
    {
      "cell_type": "code",
      "metadata": {
        "id": "FSuRfiQrmQcj",
        "colab": {
          "base_uri": "https://localhost:8080/",
          "height": 204
        },
        "outputId": "e1613025-3599-4e9d-8aa2-8704afb3a0cb"
      },
      "source": [
        "train_y = train.pop('Bestmove')\n",
        "test_y = test.pop('Bestmove')\n",
        "train.head() # the Bestmove column is now gone"
      ],
      "execution_count": 8,
      "outputs": [
        {
          "output_type": "execute_result",
          "data": {
            "text/html": [
              "<div>\n",
              "<style scoped>\n",
              "    .dataframe tbody tr th:only-of-type {\n",
              "        vertical-align: middle;\n",
              "    }\n",
              "\n",
              "    .dataframe tbody tr th {\n",
              "        vertical-align: top;\n",
              "    }\n",
              "\n",
              "    .dataframe thead th {\n",
              "        text-align: right;\n",
              "    }\n",
              "</style>\n",
              "<table border=\"1\" class=\"dataframe\">\n",
              "  <thead>\n",
              "    <tr style=\"text-align: right;\">\n",
              "      <th></th>\n",
              "      <th>Year</th>\n",
              "      <th>Month</th>\n",
              "      <th>Day</th>\n",
              "      <th>Weekday</th>\n",
              "      <th>High</th>\n",
              "      <th>Low</th>\n",
              "      <th>Close</th>\n",
              "      <th>High_ch_pc_sdbf</th>\n",
              "      <th>Low_ch_pc_sdbf</th>\n",
              "      <th>Close_ch_pc_sdbf</th>\n",
              "      <th>High_ch_tot_sdbf</th>\n",
              "      <th>Low_ch_tot_sdbf</th>\n",
              "      <th>Close_ch_tot_sdbf</th>\n",
              "      <th>Streak</th>\n",
              "    </tr>\n",
              "  </thead>\n",
              "  <tbody>\n",
              "    <tr>\n",
              "      <th>0</th>\n",
              "      <td>2021</td>\n",
              "      <td>9</td>\n",
              "      <td>30</td>\n",
              "      <td>3</td>\n",
              "      <td>2278.19</td>\n",
              "      <td>2249.46</td>\n",
              "      <td>2259.18</td>\n",
              "      <td>0.001264</td>\n",
              "      <td>-0.000325</td>\n",
              "      <td>0.001607</td>\n",
              "      <td>2.88</td>\n",
              "      <td>-0.73</td>\n",
              "      <td>3.63</td>\n",
              "      <td>2</td>\n",
              "    </tr>\n",
              "    <tr>\n",
              "      <th>1</th>\n",
              "      <td>2021</td>\n",
              "      <td>9</td>\n",
              "      <td>29</td>\n",
              "      <td>2</td>\n",
              "      <td>2275.31</td>\n",
              "      <td>2250.19</td>\n",
              "      <td>2255.55</td>\n",
              "      <td>-0.010781</td>\n",
              "      <td>-0.001542</td>\n",
              "      <td>0.000678</td>\n",
              "      <td>-24.53</td>\n",
              "      <td>-3.47</td>\n",
              "      <td>1.53</td>\n",
              "      <td>1</td>\n",
              "    </tr>\n",
              "    <tr>\n",
              "      <th>2</th>\n",
              "      <td>2021</td>\n",
              "      <td>9</td>\n",
              "      <td>28</td>\n",
              "      <td>1</td>\n",
              "      <td>2299.84</td>\n",
              "      <td>2253.66</td>\n",
              "      <td>2254.02</td>\n",
              "      <td>-0.014701</td>\n",
              "      <td>-0.020819</td>\n",
              "      <td>-0.022178</td>\n",
              "      <td>-33.81</td>\n",
              "      <td>-46.92</td>\n",
              "      <td>-49.99</td>\n",
              "      <td>-3</td>\n",
              "    </tr>\n",
              "    <tr>\n",
              "      <th>3</th>\n",
              "      <td>2021</td>\n",
              "      <td>9</td>\n",
              "      <td>27</td>\n",
              "      <td>0</td>\n",
              "      <td>2333.65</td>\n",
              "      <td>2300.58</td>\n",
              "      <td>2304.01</td>\n",
              "      <td>0.000544</td>\n",
              "      <td>-0.003708</td>\n",
              "      <td>-0.004019</td>\n",
              "      <td>1.27</td>\n",
              "      <td>-8.53</td>\n",
              "      <td>-9.26</td>\n",
              "      <td>-2</td>\n",
              "    </tr>\n",
              "    <tr>\n",
              "      <th>4</th>\n",
              "      <td>2021</td>\n",
              "      <td>9</td>\n",
              "      <td>24</td>\n",
              "      <td>4</td>\n",
              "      <td>2332.38</td>\n",
              "      <td>2309.11</td>\n",
              "      <td>2313.27</td>\n",
              "      <td>-0.003310</td>\n",
              "      <td>-0.003413</td>\n",
              "      <td>-0.010690</td>\n",
              "      <td>-7.72</td>\n",
              "      <td>-7.88</td>\n",
              "      <td>-24.73</td>\n",
              "      <td>-1</td>\n",
              "    </tr>\n",
              "  </tbody>\n",
              "</table>\n",
              "</div>"
            ],
            "text/plain": [
              "   Year  Month  Day  ...  Low_ch_tot_sdbf  Close_ch_tot_sdbf  Streak\n",
              "0  2021      9   30  ...            -0.73               3.63       2\n",
              "1  2021      9   29  ...            -3.47               1.53       1\n",
              "2  2021      9   28  ...           -46.92             -49.99      -3\n",
              "3  2021      9   27  ...            -8.53              -9.26      -2\n",
              "4  2021      9   24  ...            -7.88             -24.73      -1\n",
              "\n",
              "[5 rows x 14 columns]"
            ]
          },
          "metadata": {},
          "execution_count": 8
        }
      ]
    },
    {
      "cell_type": "code",
      "metadata": {
        "id": "1U5_eGCFmULz"
      },
      "source": [
        "def input_fn(features, labels, training=True, batch_size=32):\n",
        "    # Convert the inputs to a Dataset.\n",
        "    dataset = tf.data.Dataset.from_tensor_slices((dict(features), labels))\n",
        "\n",
        "    # Shuffle and repeat if you are in training mode.\n",
        "    if training:\n",
        "        dataset = dataset.shuffle(1000).repeat()\n",
        "    \n",
        "    return dataset.batch(batch_size)"
      ],
      "execution_count": 9,
      "outputs": []
    },
    {
      "cell_type": "code",
      "metadata": {
        "colab": {
          "base_uri": "https://localhost:8080/"
        },
        "id": "hrezlp4dqUJ9",
        "outputId": "8a56869e-44f1-4beb-8e2e-f1e8b73e20c0"
      },
      "source": [
        "# Feature columns describe how to use the input.\n",
        "my_feature_columns = []\n",
        "for key in train.keys():\n",
        "    my_feature_columns.append(tf.feature_column.numeric_column(key=key))\n",
        "print(my_feature_columns)"
      ],
      "execution_count": 10,
      "outputs": [
        {
          "output_type": "stream",
          "name": "stdout",
          "text": [
            "[NumericColumn(key='Year', shape=(1,), default_value=None, dtype=tf.float32, normalizer_fn=None), NumericColumn(key='Month', shape=(1,), default_value=None, dtype=tf.float32, normalizer_fn=None), NumericColumn(key='Day', shape=(1,), default_value=None, dtype=tf.float32, normalizer_fn=None), NumericColumn(key='Weekday', shape=(1,), default_value=None, dtype=tf.float32, normalizer_fn=None), NumericColumn(key='High', shape=(1,), default_value=None, dtype=tf.float32, normalizer_fn=None), NumericColumn(key='Low', shape=(1,), default_value=None, dtype=tf.float32, normalizer_fn=None), NumericColumn(key='Close', shape=(1,), default_value=None, dtype=tf.float32, normalizer_fn=None), NumericColumn(key='High_ch_pc_sdbf', shape=(1,), default_value=None, dtype=tf.float32, normalizer_fn=None), NumericColumn(key='Low_ch_pc_sdbf', shape=(1,), default_value=None, dtype=tf.float32, normalizer_fn=None), NumericColumn(key='Close_ch_pc_sdbf', shape=(1,), default_value=None, dtype=tf.float32, normalizer_fn=None), NumericColumn(key='High_ch_tot_sdbf', shape=(1,), default_value=None, dtype=tf.float32, normalizer_fn=None), NumericColumn(key='Low_ch_tot_sdbf', shape=(1,), default_value=None, dtype=tf.float32, normalizer_fn=None), NumericColumn(key='Close_ch_tot_sdbf', shape=(1,), default_value=None, dtype=tf.float32, normalizer_fn=None), NumericColumn(key='Streak', shape=(1,), default_value=None, dtype=tf.float32, normalizer_fn=None)]\n"
          ]
        }
      ]
    },
    {
      "cell_type": "code",
      "metadata": {
        "colab": {
          "base_uri": "https://localhost:8080/"
        },
        "id": "W85755k7q92O",
        "outputId": "90dd6297-41f6-49ad-bfea-71f79305a3c2"
      },
      "source": [
        "# Build a DNN with 2 hidden layers with 30 and 10 hidden nodes each.\n",
        "classifier = tf.estimator.DNNClassifier(\n",
        "    feature_columns=my_feature_columns,\n",
        "    # Two hidden layers of 30 and 10 nodes respectively.\n",
        "    hidden_units=[1024,512,256],\n",
        "    # The model must choose between 3 classes.\n",
        "    n_classes=2)"
      ],
      "execution_count": 11,
      "outputs": [
        {
          "output_type": "stream",
          "name": "stdout",
          "text": [
            "INFO:tensorflow:Using default config.\n",
            "WARNING:tensorflow:Using temporary folder as model directory: /tmp/tmpt9r3n9x9\n",
            "INFO:tensorflow:Using config: {'_model_dir': '/tmp/tmpt9r3n9x9', '_tf_random_seed': None, '_save_summary_steps': 100, '_save_checkpoints_steps': None, '_save_checkpoints_secs': 600, '_session_config': allow_soft_placement: true\n",
            "graph_options {\n",
            "  rewrite_options {\n",
            "    meta_optimizer_iterations: ONE\n",
            "  }\n",
            "}\n",
            ", '_keep_checkpoint_max': 5, '_keep_checkpoint_every_n_hours': 10000, '_log_step_count_steps': 100, '_train_distribute': None, '_device_fn': None, '_protocol': None, '_eval_distribute': None, '_experimental_distribute': None, '_experimental_max_worker_delay_secs': None, '_session_creation_timeout_secs': 7200, '_checkpoint_save_graph_def': True, '_service': None, '_cluster_spec': ClusterSpec({}), '_task_type': 'worker', '_task_id': 0, '_global_id_in_cluster': 0, '_master': '', '_evaluation_master': '', '_is_chief': True, '_num_ps_replicas': 0, '_num_worker_replicas': 1}\n"
          ]
        }
      ]
    },
    {
      "cell_type": "code",
      "metadata": {
        "colab": {
          "base_uri": "https://localhost:8080/"
        },
        "id": "uLBWXyQ1rF2B",
        "outputId": "b291f8d8-7367-45c5-cd77-7796ed76def5"
      },
      "source": [
        "classifier.train(\n",
        "    input_fn=lambda: input_fn(train, train_y, training=True),\n",
        "    steps=20000)\n",
        "# We include a lambda to avoid creating an inner function previously"
      ],
      "execution_count": null,
      "outputs": [
        {
          "output_type": "stream",
          "name": "stdout",
          "text": [
            "WARNING:tensorflow:From /usr/local/lib/python3.7/dist-packages/tensorflow/python/training/training_util.py:236: Variable.initialized_value (from tensorflow.python.ops.variables) is deprecated and will be removed in a future version.\n",
            "Instructions for updating:\n",
            "Use Variable.read_value. Variables in 2.X are initialized automatically both in eager and graph (inside tf.defun) contexts.\n",
            "INFO:tensorflow:Calling model_fn.\n",
            "WARNING:tensorflow:From /usr/local/lib/python3.7/dist-packages/keras/optimizer_v2/adagrad.py:84: calling Constant.__init__ (from tensorflow.python.ops.init_ops) with dtype is deprecated and will be removed in a future version.\n",
            "Instructions for updating:\n",
            "Call initializer instance with the dtype argument instead of passing it to the constructor\n",
            "INFO:tensorflow:Done calling model_fn.\n",
            "INFO:tensorflow:Create CheckpointSaverHook.\n",
            "INFO:tensorflow:Graph was finalized.\n",
            "INFO:tensorflow:Running local_init_op.\n",
            "INFO:tensorflow:Done running local_init_op.\n",
            "INFO:tensorflow:Calling checkpoint listeners before saving checkpoint 0...\n",
            "INFO:tensorflow:Saving checkpoints for 0 into /tmp/tmpt9r3n9x9/model.ckpt.\n",
            "INFO:tensorflow:Calling checkpoint listeners after saving checkpoint 0...\n",
            "INFO:tensorflow:loss = 9.941675, step = 0\n",
            "INFO:tensorflow:global_step/sec: 78.8841\n",
            "INFO:tensorflow:loss = 5.9343443, step = 100 (1.270 sec)\n",
            "INFO:tensorflow:global_step/sec: 86.2877\n",
            "INFO:tensorflow:loss = 1.1625221, step = 200 (1.159 sec)\n",
            "INFO:tensorflow:global_step/sec: 87.2008\n",
            "INFO:tensorflow:loss = 3.7708006, step = 300 (1.150 sec)\n",
            "INFO:tensorflow:global_step/sec: 87.6971\n",
            "INFO:tensorflow:loss = 5.9433994, step = 400 (1.137 sec)\n",
            "INFO:tensorflow:global_step/sec: 89.744\n",
            "INFO:tensorflow:loss = 0.80278647, step = 500 (1.115 sec)\n",
            "INFO:tensorflow:global_step/sec: 91.9268\n",
            "INFO:tensorflow:loss = 3.070797, step = 600 (1.087 sec)\n",
            "INFO:tensorflow:global_step/sec: 88.3824\n",
            "INFO:tensorflow:loss = 1.9012597, step = 700 (1.138 sec)\n",
            "INFO:tensorflow:global_step/sec: 90.1842\n",
            "INFO:tensorflow:loss = 1.51362, step = 800 (1.107 sec)\n",
            "INFO:tensorflow:global_step/sec: 91.1432\n",
            "INFO:tensorflow:loss = 3.009748, step = 900 (1.098 sec)\n",
            "INFO:tensorflow:global_step/sec: 92.4154\n",
            "INFO:tensorflow:loss = 0.8597846, step = 1000 (1.077 sec)\n",
            "INFO:tensorflow:global_step/sec: 91.9423\n",
            "INFO:tensorflow:loss = 2.1002555, step = 1100 (1.088 sec)\n",
            "INFO:tensorflow:global_step/sec: 89.1928\n",
            "INFO:tensorflow:loss = 0.6137712, step = 1200 (1.126 sec)\n",
            "INFO:tensorflow:global_step/sec: 91.0024\n",
            "INFO:tensorflow:loss = 0.8389867, step = 1300 (1.097 sec)\n",
            "INFO:tensorflow:global_step/sec: 90.3574\n",
            "INFO:tensorflow:loss = 0.8502686, step = 1400 (1.109 sec)\n",
            "INFO:tensorflow:global_step/sec: 91.029\n",
            "INFO:tensorflow:loss = 0.8477266, step = 1500 (1.094 sec)\n",
            "INFO:tensorflow:global_step/sec: 85.0896\n",
            "INFO:tensorflow:loss = 0.81650364, step = 1600 (1.175 sec)\n",
            "INFO:tensorflow:global_step/sec: 89.1092\n",
            "INFO:tensorflow:loss = 1.0749447, step = 1700 (1.122 sec)\n",
            "INFO:tensorflow:global_step/sec: 88.5044\n",
            "INFO:tensorflow:loss = 0.55973506, step = 1800 (1.133 sec)\n",
            "INFO:tensorflow:global_step/sec: 89.6261\n",
            "INFO:tensorflow:loss = 0.6324753, step = 1900 (1.112 sec)\n",
            "INFO:tensorflow:global_step/sec: 89.966\n",
            "INFO:tensorflow:loss = 0.9764227, step = 2000 (1.111 sec)\n",
            "INFO:tensorflow:global_step/sec: 84.0326\n",
            "INFO:tensorflow:loss = 0.87663275, step = 2100 (1.194 sec)\n",
            "INFO:tensorflow:global_step/sec: 85.7952\n",
            "INFO:tensorflow:loss = 0.69224787, step = 2200 (1.165 sec)\n",
            "INFO:tensorflow:global_step/sec: 86.4711\n",
            "INFO:tensorflow:loss = 0.639309, step = 2300 (1.154 sec)\n",
            "INFO:tensorflow:global_step/sec: 86.8356\n",
            "INFO:tensorflow:loss = 0.8451513, step = 2400 (1.154 sec)\n",
            "INFO:tensorflow:global_step/sec: 86.9443\n",
            "INFO:tensorflow:loss = 0.99207073, step = 2500 (1.147 sec)\n",
            "INFO:tensorflow:global_step/sec: 92.2772\n",
            "INFO:tensorflow:loss = 0.87572944, step = 2600 (1.089 sec)\n",
            "INFO:tensorflow:global_step/sec: 89.0917\n",
            "INFO:tensorflow:loss = 1.5320369, step = 2700 (1.118 sec)\n",
            "INFO:tensorflow:global_step/sec: 89.7974\n",
            "INFO:tensorflow:loss = 0.7017048, step = 2800 (1.113 sec)\n",
            "INFO:tensorflow:global_step/sec: 87.7967\n",
            "INFO:tensorflow:loss = 0.8571288, step = 2900 (1.139 sec)\n",
            "INFO:tensorflow:global_step/sec: 90.4176\n",
            "INFO:tensorflow:loss = 0.60489374, step = 3000 (1.106 sec)\n",
            "INFO:tensorflow:global_step/sec: 90.9296\n",
            "INFO:tensorflow:loss = 1.0922084, step = 3100 (1.100 sec)\n",
            "INFO:tensorflow:global_step/sec: 91.0399\n",
            "INFO:tensorflow:loss = 0.5668992, step = 3200 (1.097 sec)\n",
            "INFO:tensorflow:global_step/sec: 93.2022\n",
            "INFO:tensorflow:loss = 0.6951122, step = 3300 (1.076 sec)\n",
            "INFO:tensorflow:global_step/sec: 85.3053\n",
            "INFO:tensorflow:loss = 0.7381966, step = 3400 (1.173 sec)\n",
            "INFO:tensorflow:global_step/sec: 91.0058\n",
            "INFO:tensorflow:loss = 0.799121, step = 3500 (1.096 sec)\n",
            "INFO:tensorflow:global_step/sec: 86.1639\n",
            "INFO:tensorflow:loss = 0.653093, step = 3600 (1.161 sec)\n",
            "INFO:tensorflow:global_step/sec: 88.3007\n",
            "INFO:tensorflow:loss = 1.5236655, step = 3700 (1.138 sec)\n",
            "INFO:tensorflow:global_step/sec: 85.6835\n",
            "INFO:tensorflow:loss = 0.77249897, step = 3800 (1.166 sec)\n",
            "INFO:tensorflow:global_step/sec: 84.9536\n",
            "INFO:tensorflow:loss = 0.6584065, step = 3900 (1.175 sec)\n",
            "INFO:tensorflow:global_step/sec: 82.9615\n",
            "INFO:tensorflow:loss = 0.6438192, step = 4000 (1.207 sec)\n",
            "INFO:tensorflow:global_step/sec: 85.1814\n",
            "INFO:tensorflow:loss = 0.81462383, step = 4100 (1.174 sec)\n",
            "INFO:tensorflow:global_step/sec: 87.9826\n",
            "INFO:tensorflow:loss = 0.6593155, step = 4200 (1.135 sec)\n",
            "INFO:tensorflow:global_step/sec: 91.7725\n",
            "INFO:tensorflow:loss = 0.5311321, step = 4300 (1.088 sec)\n",
            "INFO:tensorflow:global_step/sec: 91.2215\n",
            "INFO:tensorflow:loss = 0.6134049, step = 4400 (1.096 sec)\n",
            "INFO:tensorflow:global_step/sec: 89.3501\n",
            "INFO:tensorflow:loss = 0.9042001, step = 4500 (1.119 sec)\n",
            "INFO:tensorflow:global_step/sec: 92.3373\n",
            "INFO:tensorflow:loss = 0.8692602, step = 4600 (1.086 sec)\n",
            "INFO:tensorflow:global_step/sec: 89.7262\n",
            "INFO:tensorflow:loss = 1.046083, step = 4700 (1.111 sec)\n",
            "INFO:tensorflow:global_step/sec: 92.2814\n",
            "INFO:tensorflow:loss = 0.65596914, step = 4800 (1.084 sec)\n",
            "INFO:tensorflow:global_step/sec: 92.5331\n",
            "INFO:tensorflow:loss = 0.7143234, step = 4900 (1.086 sec)\n",
            "INFO:tensorflow:global_step/sec: 89.7663\n",
            "INFO:tensorflow:loss = 0.9575383, step = 5000 (1.114 sec)\n",
            "INFO:tensorflow:global_step/sec: 87.731\n",
            "INFO:tensorflow:loss = 0.57119715, step = 5100 (1.135 sec)\n",
            "INFO:tensorflow:global_step/sec: 85.4812\n",
            "INFO:tensorflow:loss = 0.74589777, step = 5200 (1.176 sec)\n",
            "INFO:tensorflow:global_step/sec: 81.6609\n",
            "INFO:tensorflow:loss = 0.64035416, step = 5300 (1.217 sec)\n",
            "INFO:tensorflow:global_step/sec: 88.3539\n",
            "INFO:tensorflow:loss = 0.898082, step = 5400 (1.132 sec)\n",
            "INFO:tensorflow:global_step/sec: 87.4674\n",
            "INFO:tensorflow:loss = 0.64819753, step = 5500 (1.143 sec)\n",
            "INFO:tensorflow:global_step/sec: 90.6995\n",
            "INFO:tensorflow:loss = 0.7071638, step = 5600 (1.103 sec)\n",
            "INFO:tensorflow:global_step/sec: 86.0378\n",
            "INFO:tensorflow:loss = 0.70145, step = 5700 (1.167 sec)\n",
            "INFO:tensorflow:global_step/sec: 88.4546\n",
            "INFO:tensorflow:loss = 0.73250186, step = 5800 (1.131 sec)\n",
            "INFO:tensorflow:global_step/sec: 87.1017\n",
            "INFO:tensorflow:loss = 0.7505952, step = 5900 (1.143 sec)\n",
            "INFO:tensorflow:global_step/sec: 90.486\n",
            "INFO:tensorflow:loss = 0.6798605, step = 6000 (1.106 sec)\n",
            "INFO:tensorflow:global_step/sec: 95.2276\n",
            "INFO:tensorflow:loss = 0.65449226, step = 6100 (1.052 sec)\n",
            "INFO:tensorflow:global_step/sec: 89.6723\n",
            "INFO:tensorflow:loss = 0.5749891, step = 6200 (1.115 sec)\n",
            "INFO:tensorflow:global_step/sec: 94.124\n",
            "INFO:tensorflow:loss = 0.5602423, step = 6300 (1.060 sec)\n",
            "INFO:tensorflow:global_step/sec: 94.6823\n",
            "INFO:tensorflow:loss = 0.65215623, step = 6400 (1.056 sec)\n",
            "INFO:tensorflow:global_step/sec: 93.0934\n",
            "INFO:tensorflow:loss = 0.66633284, step = 6500 (1.076 sec)\n",
            "INFO:tensorflow:global_step/sec: 91.1582\n",
            "INFO:tensorflow:loss = 0.5985888, step = 6600 (1.097 sec)\n",
            "INFO:tensorflow:global_step/sec: 88.4252\n",
            "INFO:tensorflow:loss = 0.7938378, step = 6700 (1.132 sec)\n",
            "INFO:tensorflow:global_step/sec: 88.0664\n",
            "INFO:tensorflow:loss = 0.57598275, step = 6800 (1.135 sec)\n",
            "INFO:tensorflow:global_step/sec: 89.3209\n",
            "INFO:tensorflow:loss = 0.74530387, step = 6900 (1.119 sec)\n",
            "INFO:tensorflow:global_step/sec: 89.0323\n",
            "INFO:tensorflow:loss = 0.714139, step = 7000 (1.124 sec)\n",
            "INFO:tensorflow:global_step/sec: 87.1108\n",
            "INFO:tensorflow:loss = 0.6920451, step = 7100 (1.145 sec)\n",
            "INFO:tensorflow:global_step/sec: 86.1009\n",
            "INFO:tensorflow:loss = 0.6591435, step = 7200 (1.165 sec)\n",
            "INFO:tensorflow:global_step/sec: 85.4846\n",
            "INFO:tensorflow:loss = 0.5211604, step = 7300 (1.167 sec)\n",
            "INFO:tensorflow:global_step/sec: 85.7903\n",
            "INFO:tensorflow:loss = 0.71219087, step = 7400 (1.164 sec)\n",
            "INFO:tensorflow:global_step/sec: 87.7834\n",
            "INFO:tensorflow:loss = 0.6738112, step = 7500 (1.140 sec)\n",
            "INFO:tensorflow:global_step/sec: 88.9629\n",
            "INFO:tensorflow:loss = 0.8150325, step = 7600 (1.124 sec)\n",
            "INFO:tensorflow:global_step/sec: 90.6468\n",
            "INFO:tensorflow:loss = 0.52223575, step = 7700 (1.102 sec)\n",
            "INFO:tensorflow:global_step/sec: 90.454\n",
            "INFO:tensorflow:loss = 0.6944209, step = 7800 (1.109 sec)\n",
            "INFO:tensorflow:global_step/sec: 89.4886\n",
            "INFO:tensorflow:loss = 0.6198778, step = 7900 (1.117 sec)\n",
            "INFO:tensorflow:global_step/sec: 86.6823\n",
            "INFO:tensorflow:loss = 0.78459144, step = 8000 (1.153 sec)\n",
            "INFO:tensorflow:global_step/sec: 86.596\n",
            "INFO:tensorflow:loss = 0.5818299, step = 8100 (1.154 sec)\n",
            "INFO:tensorflow:global_step/sec: 88.4368\n",
            "INFO:tensorflow:loss = 0.8527198, step = 8200 (1.132 sec)\n",
            "INFO:tensorflow:global_step/sec: 91.3532\n",
            "INFO:tensorflow:loss = 0.7519258, step = 8300 (1.093 sec)\n",
            "INFO:tensorflow:global_step/sec: 93.8128\n",
            "INFO:tensorflow:loss = 0.7703484, step = 8400 (1.068 sec)\n",
            "INFO:tensorflow:global_step/sec: 89.699\n",
            "INFO:tensorflow:loss = 0.60260123, step = 8500 (1.116 sec)\n",
            "INFO:tensorflow:global_step/sec: 85.3247\n",
            "INFO:tensorflow:loss = 0.5615839, step = 8600 (1.174 sec)\n",
            "INFO:tensorflow:global_step/sec: 84.1007\n",
            "INFO:tensorflow:loss = 0.6138435, step = 8700 (1.183 sec)\n",
            "INFO:tensorflow:global_step/sec: 85.6506\n",
            "INFO:tensorflow:loss = 0.63522303, step = 8800 (1.170 sec)\n",
            "INFO:tensorflow:global_step/sec: 82.0892\n",
            "INFO:tensorflow:loss = 0.7505193, step = 8900 (1.219 sec)\n",
            "INFO:tensorflow:global_step/sec: 84.8582\n",
            "INFO:tensorflow:loss = 0.70537984, step = 9000 (1.182 sec)\n",
            "INFO:tensorflow:global_step/sec: 84.5101\n",
            "INFO:tensorflow:loss = 0.6229811, step = 9100 (1.180 sec)\n",
            "INFO:tensorflow:global_step/sec: 81.8311\n",
            "INFO:tensorflow:loss = 0.6900803, step = 9200 (1.218 sec)\n",
            "INFO:tensorflow:global_step/sec: 88.841\n",
            "INFO:tensorflow:loss = 0.6985934, step = 9300 (1.132 sec)\n",
            "INFO:tensorflow:global_step/sec: 90.0873\n",
            "INFO:tensorflow:loss = 0.6152861, step = 9400 (1.106 sec)\n",
            "INFO:tensorflow:global_step/sec: 91.2678\n",
            "INFO:tensorflow:loss = 0.6217902, step = 9500 (1.097 sec)\n",
            "INFO:tensorflow:global_step/sec: 89.3304\n",
            "INFO:tensorflow:loss = 0.587867, step = 9600 (1.121 sec)\n",
            "INFO:tensorflow:global_step/sec: 90.6874\n",
            "INFO:tensorflow:loss = 0.6781914, step = 9700 (1.098 sec)\n",
            "INFO:tensorflow:global_step/sec: 86.3785\n",
            "INFO:tensorflow:loss = 0.7039225, step = 9800 (1.163 sec)\n",
            "INFO:tensorflow:global_step/sec: 91.0489\n",
            "INFO:tensorflow:loss = 0.61790633, step = 9900 (1.093 sec)\n",
            "INFO:tensorflow:global_step/sec: 89.7031\n",
            "INFO:tensorflow:loss = 0.608682, step = 10000 (1.119 sec)\n",
            "INFO:tensorflow:global_step/sec: 89.8553\n",
            "INFO:tensorflow:loss = 0.71818507, step = 10100 (1.113 sec)\n",
            "INFO:tensorflow:global_step/sec: 89.886\n",
            "INFO:tensorflow:loss = 0.6620945, step = 10200 (1.114 sec)\n",
            "INFO:tensorflow:global_step/sec: 85.885\n",
            "INFO:tensorflow:loss = 0.7530754, step = 10300 (1.163 sec)\n",
            "INFO:tensorflow:global_step/sec: 85.5472\n",
            "INFO:tensorflow:loss = 0.6668537, step = 10400 (1.169 sec)\n",
            "INFO:tensorflow:global_step/sec: 83.3792\n",
            "INFO:tensorflow:loss = 0.5651875, step = 10500 (1.195 sec)\n",
            "INFO:tensorflow:global_step/sec: 79.169\n",
            "INFO:tensorflow:loss = 0.5709177, step = 10600 (1.265 sec)\n",
            "INFO:tensorflow:global_step/sec: 84.7943\n",
            "INFO:tensorflow:loss = 0.6942322, step = 10700 (1.183 sec)\n",
            "INFO:tensorflow:global_step/sec: 86.5483\n",
            "INFO:tensorflow:loss = 0.65970296, step = 10800 (1.155 sec)\n",
            "INFO:tensorflow:global_step/sec: 86.7065\n",
            "INFO:tensorflow:loss = 0.7626103, step = 10900 (1.150 sec)\n",
            "INFO:tensorflow:global_step/sec: 85.5546\n",
            "INFO:tensorflow:loss = 0.6916978, step = 11000 (1.171 sec)\n",
            "INFO:tensorflow:global_step/sec: 88.4416\n",
            "INFO:tensorflow:loss = 0.61345345, step = 11100 (1.126 sec)\n",
            "INFO:tensorflow:global_step/sec: 87.8492\n",
            "INFO:tensorflow:loss = 0.5768656, step = 11200 (1.140 sec)\n",
            "INFO:tensorflow:global_step/sec: 87.4262\n",
            "INFO:tensorflow:loss = 0.60630614, step = 11300 (1.143 sec)\n",
            "INFO:tensorflow:global_step/sec: 90.1483\n",
            "INFO:tensorflow:loss = 0.6816157, step = 11400 (1.112 sec)\n",
            "INFO:tensorflow:global_step/sec: 89.0723\n",
            "INFO:tensorflow:loss = 0.64626896, step = 11500 (1.119 sec)\n",
            "INFO:tensorflow:global_step/sec: 88.3609\n",
            "INFO:tensorflow:loss = 0.62728447, step = 11600 (1.135 sec)\n",
            "INFO:tensorflow:global_step/sec: 93.3993\n",
            "INFO:tensorflow:loss = 0.67056346, step = 11700 (1.068 sec)\n",
            "INFO:tensorflow:global_step/sec: 91.1825\n",
            "INFO:tensorflow:loss = 0.97767174, step = 11800 (1.098 sec)\n",
            "INFO:tensorflow:global_step/sec: 91.1465\n"
          ]
        }
      ]
    },
    {
      "cell_type": "code",
      "metadata": {
        "id": "PT9gXcMJsXT7"
      },
      "source": [
        "eval_result = classifier.evaluate(\n",
        "    input_fn=lambda: input_fn(test, test_y, training=False))\n",
        "\n",
        "print('\\nTest set accuracy: {accuracy:0.3f}\\n'.format(**eval_result))"
      ],
      "execution_count": null,
      "outputs": []
    },
    {
      "cell_type": "code",
      "metadata": {
        "id": "3XeF5pO2shm_"
      },
      "source": [
        "#@title\n",
        "def input_fn(features, batch_size=100):\n",
        "    # Convert the inputs to a Dataset without labels.\n",
        "    return tf.data.Dataset.from_tensor_slices(dict(features)).batch(batch_size)\n",
        "\n",
        "features = ['Year', 'Month', 'Day','Weekday','High', 'Low', 'Close','High_ch_pc_sdbf', 'Low_ch_pc_sdbf', 'Close_ch_pc_sdbf', 'High_ch_tot_sdbf', 'Low_ch_tot_sdbf', 'Close_ch_tot_sdbf','Streak']\n",
        "predict = {'Year': [2021],'Month': [10],'Day': [25],'Weekday': [0],'High': [2353.63],'Low': [2326.72],'Close': [2330.13],'High_ch_pc_sdbf': [0.000675552232084119],'Low_ch_pc_sdbf': [0.00453857791225414],'Close_ch_pc_sdbf': [-0.00802959491530517],'High_ch_tot_sdbf': [1.59000000000015],'Low_ch_tot_sdbf': [10.5599999999999],'Close_ch_tot_sdbf': [-18.71],'Streak': [-1]}\n",
        "\n",
        "predictions = classifier.predict(input_fn=lambda: input_fn(predict))\n",
        "for pred_dict in predictions:\n",
        "    class_id = pred_dict['class_ids'][0]\n",
        "    probability = pred_dict['probabilities'][class_id]\n",
        "\n",
        "    print('Prediction is \"{}\" ({:.1f}%)'.format(\n",
        "        Bestmove[class_id], 100 * probability))"
      ],
      "execution_count": null,
      "outputs": []
    }
  ]
}